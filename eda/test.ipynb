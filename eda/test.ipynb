{
 "cells": [
  {
   "cell_type": "markdown",
   "metadata": {},
   "source": [
    "## Prepair"
   ]
  },
  {
   "cell_type": "code",
   "execution_count": 1,
   "metadata": {},
   "outputs": [],
   "source": [
    "## config.yamlの読み込み\n",
    "import yaml\n",
    "with open(\"../scripts/config.yaml\", \"r\", encoding='utf-8') as file:\n",
    "    config = yaml.safe_load(file)"
   ]
  },
  {
   "cell_type": "code",
   "execution_count": 2,
   "metadata": {},
   "outputs": [],
   "source": [
    "import gc\n",
    "import lightgbm as lgb\n",
    "from sklearn.ensemble import VotingRegressor\n",
    "import numpy as np # linear algebra\n",
    "import pandas as pd # data processing, CSV file I/O (e.g. pd.read_csv)\n",
    "import re\n",
    "import random\n",
    "import pickle\n",
    "import matplotlib.pyplot as plt\n",
    "from sklearn.model_selection import train_test_split, StratifiedKFold\n",
    "from sklearn.metrics import confusion_matrix, ConfusionMatrixDisplay, f1_score, cohen_kappa_score\n",
    "from lightgbm import log_evaluation, early_stopping\n",
    "import polars as pl\n",
    "from pathlib import Path\n",
    "import sys\n",
    "import torch"
   ]
  },
  {
   "cell_type": "code",
   "execution_count": 3,
   "metadata": {},
   "outputs": [
    {
     "name": "stderr",
     "output_type": "stream",
     "text": [
      "2024-05-30 00:08:49.889173: E external/local_xla/xla/stream_executor/cuda/cuda_dnn.cc:9261] Unable to register cuDNN factory: Attempting to register factory for plugin cuDNN when one has already been registered\n",
      "2024-05-30 00:08:49.889275: E external/local_xla/xla/stream_executor/cuda/cuda_fft.cc:607] Unable to register cuFFT factory: Attempting to register factory for plugin cuFFT when one has already been registered\n",
      "2024-05-30 00:08:49.891844: E external/local_xla/xla/stream_executor/cuda/cuda_blas.cc:1515] Unable to register cuBLAS factory: Attempting to register factory for plugin cuBLAS when one has already been registered\n",
      "2024-05-30 00:08:51.576895: W tensorflow/compiler/tf2tensorrt/utils/py_utils.cc:38] TF-TRT Warning: Could not find TensorRT\n"
     ]
    }
   ],
   "source": [
    "# 自作関数の読み込み\n",
    "repo_dir = Path().resolve().parents[0]\n",
    "root_dir = Path().resolve().parents[1]\n",
    "s3_dir = root_dir / \"s3storage/01_public/auto_essay_scorer_lab2/data/\"\n",
    "sys.path.append(str(repo_dir / \"scripts/\"))\n",
    "from utils.path import PathManager\n",
    "from utils.data import *\n",
    "from utils.model import *\n",
    "\n",
    "## パスの設定\n",
    "mode = config[\"model_name\"]\n",
    "path_to = PathManager(s3_dir, mode)"
   ]
  },
  {
   "cell_type": "markdown",
   "metadata": {},
   "source": [
    "# a_valueとb_valueを確認"
   ]
  },
  {
   "cell_type": "code",
   "execution_count": 4,
   "metadata": {},
   "outputs": [],
   "source": [
    "## 学習データ読み込み\n",
    "load_path = path_to.train_all_mart_dir\n",
    "train_data = pl.read_csv(load_path)"
   ]
  },
  {
   "cell_type": "code",
   "execution_count": 5,
   "metadata": {},
   "outputs": [
    {
     "name": "stdout",
     "output_type": "stream",
     "text": [
      "Average of column 'score': 2.948402380539666\n",
      "Variance of column 'score': 1.0918134361390224\n"
     ]
    }
   ],
   "source": [
    "# a_value : 2.998\n",
    "mean_score = train_data['score'].mean()\n",
    "print(f\"Average of column 'score': {mean_score}\")\n",
    "\n",
    "# b_value : 1.092\n",
    "variance_score = train_data['score'].var()\n",
    "print(f\"Variance of column 'score': {variance_score}\")"
   ]
  },
  {
   "cell_type": "markdown",
   "metadata": {},
   "source": [
    "# scripts/01_prepare.py 実行後のデータ確認"
   ]
  },
  {
   "cell_type": "code",
   "execution_count": 30,
   "metadata": {},
   "outputs": [],
   "source": [
    "## データの読み込み\n",
    "fold_num = \"0\"\n",
    "\n",
    "train_path: Path = path_to.add_meta_mart_dir / f'fold_{fold_num}/train_fold_add_meta.csv'\n",
    "train_data = pl.read_csv(train_path)\n",
    "valid_path: Path = path_to.add_meta_mart_dir / f'fold_{fold_num}/valid_fold_add_meta.csv'\n",
    "valid_data = pl.read_csv(valid_path)"
   ]
  },
  {
   "cell_type": "code",
   "execution_count": 31,
   "metadata": {},
   "outputs": [
    {
     "data": {
      "text/html": [
       "<div><style>\n",
       ".dataframe > thead > tr,\n",
       ".dataframe > tbody > tr {\n",
       "  text-align: right;\n",
       "  white-space: pre-wrap;\n",
       "}\n",
       "</style>\n",
       "<small>shape: (1, 24_143)</small><table border=\"1\" class=\"dataframe\"><thead><tr><th></th><th>essay_id</th><th>paragraph_&gt;0_cnt</th><th>paragraph_&gt;50_cnt</th><th>paragraph_&gt;75_cnt</th><th>paragraph_&gt;100_cnt</th><th>paragraph_&gt;125_cnt</th><th>paragraph_&gt;150_cnt</th><th>paragraph_&gt;175_cnt</th><th>paragraph_&gt;200_cnt</th><th>paragraph_&gt;250_cnt</th><th>paragraph_&gt;300_cnt</th><th>paragraph_&gt;350_cnt</th><th>paragraph_&gt;400_cnt</th><th>paragraph_&gt;500_cnt</th><th>paragraph_&gt;600_cnt</th><th>paragraph_&gt;700_cnt</th><th>paragraph_&lt;25_cnt</th><th>paragraph_&lt;49_cnt</th><th>paragraph_error_num_max</th><th>paragraph_len_max</th><th>paragraph_sentence_cnt_max</th><th>paragraph_word_cnt_max</th><th>paragraph_error_num_mean</th><th>paragraph_len_mean</th><th>paragraph_sentence_cnt_mean</th><th>paragraph_word_cnt_mean</th><th>paragraph_error_num_min</th><th>paragraph_len_min</th><th>paragraph_sentence_cnt_min</th><th>paragraph_word_cnt_min</th><th>paragraph_error_num_sum</th><th>paragraph_len_sum</th><th>paragraph_sentence_cnt_sum</th><th>paragraph_word_cnt_sum</th><th>paragraph_error_num_first</th><th>paragraph_len_first</th><th>&hellip;</th><th>tfid_cnt_2136</th><th>tfid_cnt_2137</th><th>tfid_cnt_2138</th><th>tfid_cnt_2139</th><th>tfid_cnt_2140</th><th>tfid_cnt_2141</th><th>tfid_cnt_2142</th><th>tfid_cnt_2143</th><th>tfid_cnt_2144</th><th>tfid_cnt_2145</th><th>tfid_cnt_2146</th><th>tfid_cnt_2147</th><th>tfid_cnt_2148</th><th>tfid_cnt_2149</th><th>tfid_cnt_2150</th><th>tfid_cnt_2151</th><th>tfid_cnt_2152</th><th>tfid_cnt_2153</th><th>tfid_cnt_2154</th><th>tfid_cnt_2155</th><th>tfid_cnt_2156</th><th>tfid_cnt_2157</th><th>tfid_cnt_2158</th><th>tfid_cnt_2159</th><th>tfid_cnt_2160</th><th>tfid_cnt_2161</th><th>tfid_cnt_2162</th><th>tfid_cnt_2163</th><th>tfid_cnt_2164</th><th>tfid_cnt_2165</th><th>tfid_cnt_2166</th><th>tfid_cnt_2167</th><th>tfid_cnt_2168</th><th>tfid_cnt_2169</th><th>tfid_cnt_2170</th><th>tfid_cnt_2171</th><th>tfid_cnt_2172</th></tr><tr><td>i64</td><td>str</td><td>i64</td><td>i64</td><td>i64</td><td>i64</td><td>i64</td><td>i64</td><td>i64</td><td>i64</td><td>i64</td><td>i64</td><td>i64</td><td>i64</td><td>i64</td><td>i64</td><td>i64</td><td>i64</td><td>i64</td><td>i64</td><td>i64</td><td>i64</td><td>i64</td><td>f64</td><td>f64</td><td>f64</td><td>f64</td><td>i64</td><td>i64</td><td>i64</td><td>i64</td><td>i64</td><td>i64</td><td>i64</td><td>i64</td><td>i64</td><td>i64</td><td>&hellip;</td><td>i64</td><td>i64</td><td>i64</td><td>i64</td><td>i64</td><td>i64</td><td>i64</td><td>i64</td><td>i64</td><td>i64</td><td>i64</td><td>i64</td><td>i64</td><td>i64</td><td>i64</td><td>i64</td><td>i64</td><td>i64</td><td>i64</td><td>i64</td><td>i64</td><td>i64</td><td>i64</td><td>i64</td><td>i64</td><td>i64</td><td>i64</td><td>i64</td><td>i64</td><td>i64</td><td>i64</td><td>i64</td><td>i64</td><td>i64</td><td>i64</td><td>i64</td><td>i64</td></tr></thead><tbody><tr><td>0</td><td>&quot;0040e27&quot;</td><td>5</td><td>5</td><td>5</td><td>5</td><td>5</td><td>5</td><td>5</td><td>4</td><td>4</td><td>2</td><td>1</td><td>1</td><td>0</td><td>0</td><td>0</td><td>0</td><td>0</td><td>2</td><td>424</td><td>7</td><td>80</td><td>1.4</td><td>300.0</td><td>5.6</td><td>55.2</td><td>1</td><td>179</td><td>5</td><td>31</td><td>7</td><td>1500</td><td>28</td><td>276</td><td>1</td><td>179</td><td>&hellip;</td><td>0</td><td>2</td><td>0</td><td>0</td><td>0</td><td>2</td><td>0</td><td>0</td><td>0</td><td>0</td><td>0</td><td>0</td><td>1</td><td>0</td><td>1</td><td>1</td><td>0</td><td>0</td><td>2</td><td>0</td><td>1</td><td>1</td><td>1</td><td>12</td><td>0</td><td>12</td><td>0</td><td>7</td><td>7</td><td>0</td><td>0</td><td>0</td><td>0</td><td>0</td><td>0</td><td>0</td><td>0</td></tr></tbody></table></div>"
      ],
      "text/plain": [
       "shape: (1, 24_143)\n",
       "┌─────┬──────────┬────────────┬────────────┬───┬────────────┬────────────┬────────────┬────────────┐\n",
       "│     ┆ essay_id ┆ paragraph_ ┆ paragraph_ ┆ … ┆ tfid_cnt_2 ┆ tfid_cnt_2 ┆ tfid_cnt_2 ┆ tfid_cnt_2 │\n",
       "│ --- ┆ ---      ┆ >0_cnt     ┆ >50_cnt    ┆   ┆ 169        ┆ 170        ┆ 171        ┆ 172        │\n",
       "│ i64 ┆ str      ┆ ---        ┆ ---        ┆   ┆ ---        ┆ ---        ┆ ---        ┆ ---        │\n",
       "│     ┆          ┆ i64        ┆ i64        ┆   ┆ i64        ┆ i64        ┆ i64        ┆ i64        │\n",
       "╞═════╪══════════╪════════════╪════════════╪═══╪════════════╪════════════╪════════════╪════════════╡\n",
       "│ 0   ┆ 0040e27  ┆ 5          ┆ 5          ┆ … ┆ 0          ┆ 0          ┆ 0          ┆ 0          │\n",
       "└─────┴──────────┴────────────┴────────────┴───┴────────────┴────────────┴────────────┴────────────┘"
      ]
     },
     "execution_count": 31,
     "metadata": {},
     "output_type": "execute_result"
    }
   ],
   "source": [
    "train_data.head(1)"
   ]
  },
  {
   "cell_type": "code",
   "execution_count": 32,
   "metadata": {},
   "outputs": [
    {
     "data": {
      "text/html": [
       "<div><style>\n",
       ".dataframe > thead > tr,\n",
       ".dataframe > tbody > tr {\n",
       "  text-align: right;\n",
       "  white-space: pre-wrap;\n",
       "}\n",
       "</style>\n",
       "<small>shape: (1, 24_143)</small><table border=\"1\" class=\"dataframe\"><thead><tr><th></th><th>essay_id</th><th>paragraph_&gt;0_cnt</th><th>paragraph_&gt;50_cnt</th><th>paragraph_&gt;75_cnt</th><th>paragraph_&gt;100_cnt</th><th>paragraph_&gt;125_cnt</th><th>paragraph_&gt;150_cnt</th><th>paragraph_&gt;175_cnt</th><th>paragraph_&gt;200_cnt</th><th>paragraph_&gt;250_cnt</th><th>paragraph_&gt;300_cnt</th><th>paragraph_&gt;350_cnt</th><th>paragraph_&gt;400_cnt</th><th>paragraph_&gt;500_cnt</th><th>paragraph_&gt;600_cnt</th><th>paragraph_&gt;700_cnt</th><th>paragraph_&lt;25_cnt</th><th>paragraph_&lt;49_cnt</th><th>paragraph_error_num_max</th><th>paragraph_len_max</th><th>paragraph_sentence_cnt_max</th><th>paragraph_word_cnt_max</th><th>paragraph_error_num_mean</th><th>paragraph_len_mean</th><th>paragraph_sentence_cnt_mean</th><th>paragraph_word_cnt_mean</th><th>paragraph_error_num_min</th><th>paragraph_len_min</th><th>paragraph_sentence_cnt_min</th><th>paragraph_word_cnt_min</th><th>paragraph_error_num_sum</th><th>paragraph_len_sum</th><th>paragraph_sentence_cnt_sum</th><th>paragraph_word_cnt_sum</th><th>paragraph_error_num_first</th><th>paragraph_len_first</th><th>&hellip;</th><th>tfid_cnt_2136</th><th>tfid_cnt_2137</th><th>tfid_cnt_2138</th><th>tfid_cnt_2139</th><th>tfid_cnt_2140</th><th>tfid_cnt_2141</th><th>tfid_cnt_2142</th><th>tfid_cnt_2143</th><th>tfid_cnt_2144</th><th>tfid_cnt_2145</th><th>tfid_cnt_2146</th><th>tfid_cnt_2147</th><th>tfid_cnt_2148</th><th>tfid_cnt_2149</th><th>tfid_cnt_2150</th><th>tfid_cnt_2151</th><th>tfid_cnt_2152</th><th>tfid_cnt_2153</th><th>tfid_cnt_2154</th><th>tfid_cnt_2155</th><th>tfid_cnt_2156</th><th>tfid_cnt_2157</th><th>tfid_cnt_2158</th><th>tfid_cnt_2159</th><th>tfid_cnt_2160</th><th>tfid_cnt_2161</th><th>tfid_cnt_2162</th><th>tfid_cnt_2163</th><th>tfid_cnt_2164</th><th>tfid_cnt_2165</th><th>tfid_cnt_2166</th><th>tfid_cnt_2167</th><th>tfid_cnt_2168</th><th>tfid_cnt_2169</th><th>tfid_cnt_2170</th><th>tfid_cnt_2171</th><th>tfid_cnt_2172</th></tr><tr><td>i64</td><td>str</td><td>i64</td><td>i64</td><td>i64</td><td>i64</td><td>i64</td><td>i64</td><td>i64</td><td>i64</td><td>i64</td><td>i64</td><td>i64</td><td>i64</td><td>i64</td><td>i64</td><td>i64</td><td>i64</td><td>i64</td><td>i64</td><td>i64</td><td>i64</td><td>i64</td><td>f64</td><td>f64</td><td>f64</td><td>f64</td><td>i64</td><td>i64</td><td>i64</td><td>i64</td><td>i64</td><td>i64</td><td>i64</td><td>i64</td><td>i64</td><td>i64</td><td>&hellip;</td><td>i64</td><td>i64</td><td>i64</td><td>i64</td><td>i64</td><td>i64</td><td>i64</td><td>i64</td><td>i64</td><td>i64</td><td>i64</td><td>i64</td><td>i64</td><td>i64</td><td>i64</td><td>i64</td><td>i64</td><td>i64</td><td>i64</td><td>i64</td><td>i64</td><td>i64</td><td>i64</td><td>i64</td><td>i64</td><td>i64</td><td>i64</td><td>i64</td><td>i64</td><td>i64</td><td>i64</td><td>i64</td><td>i64</td><td>i64</td><td>i64</td><td>i64</td><td>i64</td></tr></thead><tbody><tr><td>0</td><td>&quot;0f2a7d9&quot;</td><td>4</td><td>4</td><td>4</td><td>4</td><td>4</td><td>4</td><td>4</td><td>3</td><td>3</td><td>3</td><td>2</td><td>2</td><td>1</td><td>0</td><td>0</td><td>0</td><td>0</td><td>5</td><td>558</td><td>4</td><td>101</td><td>2.5</td><td>370.0</td><td>3.0</td><td>68.25</td><td>1</td><td>188</td><td>2</td><td>35</td><td>10</td><td>1480</td><td>12</td><td>273</td><td>2</td><td>405</td><td>&hellip;</td><td>0</td><td>0</td><td>1</td><td>0</td><td>5</td><td>3</td><td>0</td><td>0</td><td>1</td><td>0</td><td>2</td><td>2</td><td>1</td><td>0</td><td>1</td><td>1</td><td>1</td><td>0</td><td>0</td><td>0</td><td>0</td><td>2</td><td>2</td><td>3</td><td>0</td><td>3</td><td>0</td><td>1</td><td>1</td><td>0</td><td>0</td><td>0</td><td>0</td><td>0</td><td>0</td><td>0</td><td>0</td></tr></tbody></table></div>"
      ],
      "text/plain": [
       "shape: (1, 24_143)\n",
       "┌─────┬──────────┬────────────┬────────────┬───┬────────────┬────────────┬────────────┬────────────┐\n",
       "│     ┆ essay_id ┆ paragraph_ ┆ paragraph_ ┆ … ┆ tfid_cnt_2 ┆ tfid_cnt_2 ┆ tfid_cnt_2 ┆ tfid_cnt_2 │\n",
       "│ --- ┆ ---      ┆ >0_cnt     ┆ >50_cnt    ┆   ┆ 169        ┆ 170        ┆ 171        ┆ 172        │\n",
       "│ i64 ┆ str      ┆ ---        ┆ ---        ┆   ┆ ---        ┆ ---        ┆ ---        ┆ ---        │\n",
       "│     ┆          ┆ i64        ┆ i64        ┆   ┆ i64        ┆ i64        ┆ i64        ┆ i64        │\n",
       "╞═════╪══════════╪════════════╪════════════╪═══╪════════════╪════════════╪════════════╪════════════╡\n",
       "│ 0   ┆ 0f2a7d9  ┆ 4          ┆ 4          ┆ … ┆ 0          ┆ 0          ┆ 0          ┆ 0          │\n",
       "└─────┴──────────┴────────────┴────────────┴───┴────────────┴────────────┴────────────┴────────────┘"
      ]
     },
     "execution_count": 32,
     "metadata": {},
     "output_type": "execute_result"
    }
   ],
   "source": [
    "valid_data.head(1)"
   ]
  },
  {
   "cell_type": "code",
   "execution_count": 37,
   "metadata": {},
   "outputs": [
    {
     "data": {
      "text/plain": [
       "93"
      ]
     },
     "execution_count": 37,
     "metadata": {},
     "output_type": "execute_result"
    }
   ],
   "source": [
    "len(train_data)"
   ]
  },
  {
   "cell_type": "code",
   "execution_count": null,
   "metadata": {},
   "outputs": [],
   "source": [
    "valid_data"
   ]
  },
  {
   "cell_type": "code",
   "execution_count": 36,
   "metadata": {},
   "outputs": [
    {
     "data": {
      "text/plain": [
       "24143"
      ]
     },
     "execution_count": 36,
     "metadata": {},
     "output_type": "execute_result"
    }
   ],
   "source": [
    "len(train_data.columns)"
   ]
  },
  {
   "cell_type": "code",
   "execution_count": 34,
   "metadata": {},
   "outputs": [],
   "source": [
    "missing_columns = [col for col in ['Unnamed: 0'] if col not in train_data.columns]"
   ]
  },
  {
   "cell_type": "code",
   "execution_count": 35,
   "metadata": {},
   "outputs": [
    {
     "data": {
      "text/plain": [
       "['Unnamed: 0']"
      ]
     },
     "execution_count": 35,
     "metadata": {},
     "output_type": "execute_result"
    }
   ],
   "source": [
    "missing_columns"
   ]
  },
  {
   "cell_type": "markdown",
   "metadata": {},
   "source": [
    "## persaude2.0"
   ]
  },
  {
   "cell_type": "code",
   "execution_count": 8,
   "metadata": {},
   "outputs": [],
   "source": [
    "## persaude2.0からtrainデータに含まれていない実績を補填\n",
    "# persaude2.0\n",
    "persuade_data = (\n",
    "    pl.read_csv(path_to.persaude_corpus_2_dir)\n",
    "        .rename({\"holistic_essay_score\": config[\"target\"], \n",
    "                    \"essay_id_comp\" : \"essay_id\"})\n",
    "        .with_columns(pl.col(\"full_text\").str.split(by=\"\\n\\n\").alias(\"paragraph\"))\n",
    "        .select(\"essay_id\", \"full_text\", config[\"target\"], \"paragraph\")\n",
    ")"
   ]
  },
  {
   "cell_type": "code",
   "execution_count": 9,
   "metadata": {},
   "outputs": [
    {
     "data": {
      "text/html": [
       "<div><style>\n",
       ".dataframe > thead > tr,\n",
       ".dataframe > tbody > tr {\n",
       "  text-align: right;\n",
       "  white-space: pre-wrap;\n",
       "}\n",
       "</style>\n",
       "<small>shape: (5, 4)</small><table border=\"1\" class=\"dataframe\"><thead><tr><th>essay_id</th><th>full_text</th><th>score</th><th>paragraph</th></tr><tr><td>str</td><td>str</td><td>i64</td><td>list[str]</td></tr></thead><tbody><tr><td>&quot;423A1CA112E2&quot;</td><td>&quot;Phones\n",
       "\n",
       "Modern…</td><td>3</td><td>[&quot;Phones&quot;, &quot;Modern humans today are always on their phone. They are always on their phone more than 5 hours a day no stop .All they do is text back and forward and just have group Chats on social media. They even do it while driving. They are some really bad consequences when stuff happens when it comes to a phone. Some certain areas in the United States ban phones from class rooms just because of it.&quot;, … &quot;Phones are fine to use and it&#x27;s also the best way to come over help. If you go through a problem and you can&#x27;t find help you ,always have a phone there with you. Even though phones are used almost every day as long as you&#x27;re safe it would come into use if you get into trouble. Make sure you do not be like this phone while you&#x27;re in the middle of driving. The news always updated when people do something stupid around that involves their phones. The safest way is the best way to stay safe.    &quot;]</td></tr><tr><td>&quot;BC75783F96E3&quot;</td><td>&quot;This essay wil…</td><td>4</td><td>[&quot;This essay will explain if drivers should or should not be able to use electronic devices while operating a vehicle. Using a phone while driving can cause very bad wrecks, because they are putting themselves and other people at risk. People should not be able to use cell phones while operating a vehicle is because bad wrecks, putting others&#x27; lives in danger, and may cause death.&quot;, &quot;First of all, wrecks can be caused by looking down at your phone while driving. Most importantly, you should always keep your eyes directly on the road when behind the wheel of a car. On that note, you will have an outrageously car payment just because you were looking down at your phone. Moreover, if you the reason the accident happened the person that was operating the other car can sue you for lots of money, and you will have to pay it. Therefore, if you don&#x27;t pay whatever the person charges you consequences will be served and that&#x27;s behind bars.&quot;, … &quot;Must be remembered, always stay focus on the road so you can get to your destination safely. So, you can&#x27;t cause accidents, put other people lives in danger, and possibly death. Important to realize, do not use your phone while operating a vehicle. At least, wait till you make a safe stop or until you arrive at your destination.                                                                      &quot;]</td></tr><tr><td>&quot;74C8BC7417DE&quot;</td><td>&quot;Driving while …</td><td>2</td><td>[&quot;Driving while the use of cellular devices&quot;, &quot;Today, most of the society is thoughtless. Especially new drivers, all driver for that matter do not understand the dangers of looking at a cell phone while behind the wheel.&quot;, &quot;The automobile crashes due to distracted driving are increasing, teens have been the largest age group that was reported to being distracted by cellular usage. I do not agree with people using their cell phones and driving, humans should be smarter to know that if something is going on while they are driving that is so important then pulling off to the side of the road. The society doesn&#x27;t understand that teens are the main cause for accidents I mean, in two thousand and five there was three hundred and one thousand injuries that were caused in distracted driving related accidents, that doesn&#x27;t necessarily mean that the driver was texting or using a cellular device. New drivers do not understand that deaths are usually results of an accident. one out of every four car accidents is caused by texting and driving.   &quot;]</td></tr><tr><td>&quot;A8445CABFECE&quot;</td><td>&quot;Phones &amp; Drivi…</td><td>3</td><td>[&quot;Phones &amp; Driving&quot;, &quot;Drivers should not be able to use phones while operating a vehicle. Drivers who used their phone while operating a vehicle are most likely to get into an accident that could be fatal.&quot;, … &quot;In conclusion, drivers should not able to work a vehicle while using their cell phone. Drivers who uses their phones while operating a vehicle and are likely to have an accident then those who don&#x27;t.             &quot;]</td></tr><tr><td>&quot;6B4F7A0165B9&quot;</td><td>&quot;Cell Phone Ope…</td><td>4</td><td>[&quot;Cell Phone Operation While Driving&quot;, &quot;The ability to stay connected to people we know despite distance was originally brought to fruition by the use of letters. This system was found to be rather slow and new pathways were searched for until the invention of the telegram; the people thought it was an invention of the millennia, but after time it too was thought of as slow until the invention of the telephone. Today, a telephone is in the hand or pocket of a majority of the seven billion people on planet earth. However, this device is taken to areas that it is irresponsible and dangerous.&quot;, … &quot;The creation of telecommunication devices was to keep connected to others without regard to the obsession that would encompass the human mind that was bound to follow. The safety of people is top priority without exemption.      &quot;]</td></tr></tbody></table></div>"
      ],
      "text/plain": [
       "shape: (5, 4)\n",
       "┌──────────────┬───────────────────────────────────┬───────┬───────────────────────────────────┐\n",
       "│ essay_id     ┆ full_text                         ┆ score ┆ paragraph                         │\n",
       "│ ---          ┆ ---                               ┆ ---   ┆ ---                               │\n",
       "│ str          ┆ str                               ┆ i64   ┆ list[str]                         │\n",
       "╞══════════════╪═══════════════════════════════════╪═══════╪═══════════════════════════════════╡\n",
       "│ 423A1CA112E2 ┆ Phones                            ┆ 3     ┆ [\"Phones\", \"Modern humans today … │\n",
       "│              ┆                                   ┆       ┆                                   │\n",
       "│              ┆ Modern humans today are …         ┆       ┆                                   │\n",
       "│ BC75783F96E3 ┆ This essay will explain if drive… ┆ 4     ┆ [\"This essay will explain if dri… │\n",
       "│ 74C8BC7417DE ┆ Driving while the use of cellula… ┆ 2     ┆ [\"Driving while the use of cellu… │\n",
       "│ A8445CABFECE ┆ Phones & Driving                  ┆ 3     ┆ [\"Phones & Driving\", \"Drivers sh… │\n",
       "│              ┆                                   ┆       ┆                                   │\n",
       "│              ┆ Drivers should…                   ┆       ┆                                   │\n",
       "│ 6B4F7A0165B9 ┆ Cell Phone Operation While Drivi… ┆ 4     ┆ [\"Cell Phone Operation While Dri… │\n",
       "└──────────────┴───────────────────────────────────┴───────┴───────────────────────────────────┘"
      ]
     },
     "execution_count": 9,
     "metadata": {},
     "output_type": "execute_result"
    }
   ],
   "source": [
    "persuade_data.head()"
   ]
  },
  {
   "cell_type": "code",
   "execution_count": 16,
   "metadata": {},
   "outputs": [
    {
     "data": {
      "text/html": [
       "<div><style>\n",
       ".dataframe > thead > tr,\n",
       ".dataframe > tbody > tr {\n",
       "  text-align: right;\n",
       "  white-space: pre-wrap;\n",
       "}\n",
       "</style>\n",
       "<small>shape: (0, 4)</small><table border=\"1\" class=\"dataframe\"><thead><tr><th>essay_id</th><th>full_text</th><th>score</th><th>paragraph</th></tr><tr><td>str</td><td>str</td><td>i64</td><td>list[str]</td></tr></thead><tbody></tbody></table></div>"
      ],
      "text/plain": [
       "shape: (0, 4)\n",
       "┌──────────┬───────────┬───────┬───────────┐\n",
       "│ essay_id ┆ full_text ┆ score ┆ paragraph │\n",
       "│ ---      ┆ ---       ┆ ---   ┆ ---       │\n",
       "│ str      ┆ str       ┆ i64   ┆ list[str] │\n",
       "╞══════════╪═══════════╪═══════╪═══════════╡\n",
       "└──────────┴───────────┴───────┴───────────┘"
      ]
     },
     "execution_count": 16,
     "metadata": {},
     "output_type": "execute_result"
    }
   ],
   "source": [
    "persuade_data.filter(pl.col(\"full_text\")==\"\")"
   ]
  },
  {
   "cell_type": "code",
   "execution_count": null,
   "metadata": {},
   "outputs": [],
   "source": []
  },
  {
   "cell_type": "code",
   "execution_count": 5,
   "metadata": {},
   "outputs": [],
   "source": [
    "create_dataset = CreateDataset(s3_dir, config)"
   ]
  },
  {
   "cell_type": "code",
   "execution_count": 6,
   "metadata": {},
   "outputs": [],
   "source": [
    "create_dataset.load_dataset()"
   ]
  },
  {
   "cell_type": "code",
   "execution_count": 7,
   "metadata": {},
   "outputs": [],
   "source": [
    "tmp = create_dataset.Paragraph_Preprocess(create_dataset.train_data)"
   ]
  },
  {
   "cell_type": "code",
   "execution_count": 8,
   "metadata": {},
   "outputs": [],
   "source": [
    "train_feats = create_dataset.Paragraph_Eng(tmp)"
   ]
  },
  {
   "cell_type": "code",
   "execution_count": 10,
   "metadata": {},
   "outputs": [
    {
     "data": {
      "text/plain": [
       "30430"
      ]
     },
     "execution_count": 10,
     "metadata": {},
     "output_type": "execute_result"
    }
   ],
   "source": [
    "len(create_dataset.train_data)"
   ]
  },
  {
   "cell_type": "code",
   "execution_count": 11,
   "metadata": {},
   "outputs": [
    {
     "data": {
      "text/plain": [
       "30429"
      ]
     },
     "execution_count": 11,
     "metadata": {},
     "output_type": "execute_result"
    }
   ],
   "source": [
    "len(train_feats)"
   ]
  },
  {
   "cell_type": "code",
   "execution_count": 12,
   "metadata": {},
   "outputs": [
    {
     "data": {
      "text/html": [
       "<div>\n",
       "<style scoped>\n",
       "    .dataframe tbody tr th:only-of-type {\n",
       "        vertical-align: middle;\n",
       "    }\n",
       "\n",
       "    .dataframe tbody tr th {\n",
       "        vertical-align: top;\n",
       "    }\n",
       "\n",
       "    .dataframe thead th {\n",
       "        text-align: right;\n",
       "    }\n",
       "</style>\n",
       "<table border=\"1\" class=\"dataframe\">\n",
       "  <thead>\n",
       "    <tr style=\"text-align: right;\">\n",
       "      <th></th>\n",
       "      <th>essay_id</th>\n",
       "      <th>paragraph_&gt;0_cnt</th>\n",
       "      <th>paragraph_&gt;50_cnt</th>\n",
       "      <th>paragraph_&gt;75_cnt</th>\n",
       "      <th>paragraph_&gt;100_cnt</th>\n",
       "      <th>paragraph_&gt;125_cnt</th>\n",
       "      <th>paragraph_&gt;150_cnt</th>\n",
       "      <th>paragraph_&gt;175_cnt</th>\n",
       "      <th>paragraph_&gt;200_cnt</th>\n",
       "      <th>paragraph_&gt;250_cnt</th>\n",
       "      <th>...</th>\n",
       "      <th>paragraph_sentence_cnt_kurtosis</th>\n",
       "      <th>paragraph_word_cnt_kurtosis</th>\n",
       "      <th>paragraph_error_num_q1</th>\n",
       "      <th>paragraph_len_q1</th>\n",
       "      <th>paragraph_sentence_cnt_q1</th>\n",
       "      <th>paragraph_word_cnt_q1</th>\n",
       "      <th>paragraph_error_num_q3</th>\n",
       "      <th>paragraph_len_q3</th>\n",
       "      <th>paragraph_sentence_cnt_q3</th>\n",
       "      <th>paragraph_word_cnt_q3</th>\n",
       "    </tr>\n",
       "  </thead>\n",
       "  <tbody>\n",
       "    <tr>\n",
       "      <th>0</th>\n",
       "      <td>000A58BC095E</td>\n",
       "      <td>6</td>\n",
       "      <td>3</td>\n",
       "      <td>3</td>\n",
       "      <td>3</td>\n",
       "      <td>3</td>\n",
       "      <td>3</td>\n",
       "      <td>3</td>\n",
       "      <td>3</td>\n",
       "      <td>3</td>\n",
       "      <td>...</td>\n",
       "      <td>-1.629761</td>\n",
       "      <td>-1.878328</td>\n",
       "      <td>0.0</td>\n",
       "      <td>23.0</td>\n",
       "      <td>1.0</td>\n",
       "      <td>5.0</td>\n",
       "      <td>0.0</td>\n",
       "      <td>416.0</td>\n",
       "      <td>5.0</td>\n",
       "      <td>82.0</td>\n",
       "    </tr>\n",
       "    <tr>\n",
       "      <th>1</th>\n",
       "      <td>000BAD50D026</td>\n",
       "      <td>3</td>\n",
       "      <td>3</td>\n",
       "      <td>3</td>\n",
       "      <td>2</td>\n",
       "      <td>2</td>\n",
       "      <td>2</td>\n",
       "      <td>2</td>\n",
       "      <td>2</td>\n",
       "      <td>2</td>\n",
       "      <td>...</td>\n",
       "      <td>-1.500000</td>\n",
       "      <td>-1.500000</td>\n",
       "      <td>1.0</td>\n",
       "      <td>944.0</td>\n",
       "      <td>8.0</td>\n",
       "      <td>178.0</td>\n",
       "      <td>2.0</td>\n",
       "      <td>1141.0</td>\n",
       "      <td>9.0</td>\n",
       "      <td>195.0</td>\n",
       "    </tr>\n",
       "    <tr>\n",
       "      <th>2</th>\n",
       "      <td>000E6DE9E817</td>\n",
       "      <td>6</td>\n",
       "      <td>3</td>\n",
       "      <td>3</td>\n",
       "      <td>3</td>\n",
       "      <td>3</td>\n",
       "      <td>3</td>\n",
       "      <td>3</td>\n",
       "      <td>3</td>\n",
       "      <td>3</td>\n",
       "      <td>...</td>\n",
       "      <td>-1.318024</td>\n",
       "      <td>-1.023474</td>\n",
       "      <td>0.0</td>\n",
       "      <td>10.0</td>\n",
       "      <td>1.0</td>\n",
       "      <td>1.0</td>\n",
       "      <td>0.0</td>\n",
       "      <td>464.0</td>\n",
       "      <td>5.0</td>\n",
       "      <td>83.0</td>\n",
       "    </tr>\n",
       "    <tr>\n",
       "      <th>3</th>\n",
       "      <td>000d118</td>\n",
       "      <td>1</td>\n",
       "      <td>1</td>\n",
       "      <td>1</td>\n",
       "      <td>1</td>\n",
       "      <td>1</td>\n",
       "      <td>1</td>\n",
       "      <td>1</td>\n",
       "      <td>1</td>\n",
       "      <td>1</td>\n",
       "      <td>...</td>\n",
       "      <td>NaN</td>\n",
       "      <td>NaN</td>\n",
       "      <td>27.0</td>\n",
       "      <td>2640.0</td>\n",
       "      <td>14.0</td>\n",
       "      <td>491.0</td>\n",
       "      <td>27.0</td>\n",
       "      <td>2640.0</td>\n",
       "      <td>14.0</td>\n",
       "      <td>491.0</td>\n",
       "    </tr>\n",
       "    <tr>\n",
       "      <th>4</th>\n",
       "      <td>000fe60</td>\n",
       "      <td>5</td>\n",
       "      <td>5</td>\n",
       "      <td>5</td>\n",
       "      <td>5</td>\n",
       "      <td>5</td>\n",
       "      <td>5</td>\n",
       "      <td>5</td>\n",
       "      <td>4</td>\n",
       "      <td>3</td>\n",
       "      <td>...</td>\n",
       "      <td>-1.044379</td>\n",
       "      <td>-1.388460</td>\n",
       "      <td>1.0</td>\n",
       "      <td>235.0</td>\n",
       "      <td>4.0</td>\n",
       "      <td>46.0</td>\n",
       "      <td>1.0</td>\n",
       "      <td>398.0</td>\n",
       "      <td>5.0</td>\n",
       "      <td>77.0</td>\n",
       "    </tr>\n",
       "  </tbody>\n",
       "</table>\n",
       "<p>5 rows × 54 columns</p>\n",
       "</div>"
      ],
      "text/plain": [
       "       essay_id  paragraph_>0_cnt  paragraph_>50_cnt  paragraph_>75_cnt  \\\n",
       "0  000A58BC095E                 6                  3                  3   \n",
       "1  000BAD50D026                 3                  3                  3   \n",
       "2  000E6DE9E817                 6                  3                  3   \n",
       "3       000d118                 1                  1                  1   \n",
       "4       000fe60                 5                  5                  5   \n",
       "\n",
       "   paragraph_>100_cnt  paragraph_>125_cnt  paragraph_>150_cnt  \\\n",
       "0                   3                   3                   3   \n",
       "1                   2                   2                   2   \n",
       "2                   3                   3                   3   \n",
       "3                   1                   1                   1   \n",
       "4                   5                   5                   5   \n",
       "\n",
       "   paragraph_>175_cnt  paragraph_>200_cnt  paragraph_>250_cnt  ...  \\\n",
       "0                   3                   3                   3  ...   \n",
       "1                   2                   2                   2  ...   \n",
       "2                   3                   3                   3  ...   \n",
       "3                   1                   1                   1  ...   \n",
       "4                   5                   4                   3  ...   \n",
       "\n",
       "   paragraph_sentence_cnt_kurtosis  paragraph_word_cnt_kurtosis  \\\n",
       "0                        -1.629761                    -1.878328   \n",
       "1                        -1.500000                    -1.500000   \n",
       "2                        -1.318024                    -1.023474   \n",
       "3                              NaN                          NaN   \n",
       "4                        -1.044379                    -1.388460   \n",
       "\n",
       "   paragraph_error_num_q1  paragraph_len_q1  paragraph_sentence_cnt_q1  \\\n",
       "0                     0.0              23.0                        1.0   \n",
       "1                     1.0             944.0                        8.0   \n",
       "2                     0.0              10.0                        1.0   \n",
       "3                    27.0            2640.0                       14.0   \n",
       "4                     1.0             235.0                        4.0   \n",
       "\n",
       "   paragraph_word_cnt_q1  paragraph_error_num_q3  paragraph_len_q3  \\\n",
       "0                    5.0                     0.0             416.0   \n",
       "1                  178.0                     2.0            1141.0   \n",
       "2                    1.0                     0.0             464.0   \n",
       "3                  491.0                    27.0            2640.0   \n",
       "4                   46.0                     1.0             398.0   \n",
       "\n",
       "   paragraph_sentence_cnt_q3  paragraph_word_cnt_q3  \n",
       "0                        5.0                   82.0  \n",
       "1                        9.0                  195.0  \n",
       "2                        5.0                   83.0  \n",
       "3                       14.0                  491.0  \n",
       "4                        5.0                   77.0  \n",
       "\n",
       "[5 rows x 54 columns]"
      ]
     },
     "execution_count": 12,
     "metadata": {},
     "output_type": "execute_result"
    }
   ],
   "source": [
    "train_feats.head()"
   ]
  },
  {
   "cell_type": "code",
   "execution_count": 13,
   "metadata": {},
   "outputs": [
    {
     "data": {
      "text/plain": [
       "30429"
      ]
     },
     "execution_count": 13,
     "metadata": {},
     "output_type": "execute_result"
    }
   ],
   "source": [
    "len(train_feats[\"essay_id\"].unique())"
   ]
  },
  {
   "cell_type": "code",
   "execution_count": 14,
   "metadata": {},
   "outputs": [
    {
     "data": {
      "text/plain": [
       "30429"
      ]
     },
     "execution_count": 14,
     "metadata": {},
     "output_type": "execute_result"
    }
   ],
   "source": [
    "len(create_dataset.train_data[\"essay_id\"].unique())"
   ]
  },
  {
   "cell_type": "code",
   "execution_count": 16,
   "metadata": {},
   "outputs": [],
   "source": [
    "df = create_dataset.train_data"
   ]
  },
  {
   "cell_type": "code",
   "execution_count": 17,
   "metadata": {},
   "outputs": [
    {
     "name": "stderr",
     "output_type": "stream",
     "text": [
      "/tmp/ipykernel_41938/4048290298.py:1: DeprecationWarning: `groupby` is deprecated. It has been renamed to `group_by`.\n",
      "  counts = df.groupby(\"essay_id\").count()\n",
      "/tmp/ipykernel_41938/4048290298.py:1: DeprecationWarning: `count` is deprecated. It has been renamed to `len`.\n",
      "  counts = df.groupby(\"essay_id\").count()\n"
     ]
    }
   ],
   "source": [
    "counts = df.groupby(\"essay_id\").count()\n",
    "duplicates = counts.filter(pl.col(\"count\") > 1)"
   ]
  },
  {
   "cell_type": "code",
   "execution_count": 19,
   "metadata": {},
   "outputs": [
    {
     "data": {
      "text/html": [
       "<div><style>\n",
       ".dataframe > thead > tr,\n",
       ".dataframe > tbody > tr {\n",
       "  text-align: right;\n",
       "  white-space: pre-wrap;\n",
       "}\n",
       "</style>\n",
       "<small>shape: (1, 2)</small><table border=\"1\" class=\"dataframe\"><thead><tr><th>essay_id</th><th>count</th></tr><tr><td>str</td><td>u32</td></tr></thead><tbody><tr><td>&quot;3.25E+11&quot;</td><td>2</td></tr></tbody></table></div>"
      ],
      "text/plain": [
       "shape: (1, 2)\n",
       "┌──────────┬───────┐\n",
       "│ essay_id ┆ count │\n",
       "│ ---      ┆ ---   │\n",
       "│ str      ┆ u32   │\n",
       "╞══════════╪═══════╡\n",
       "│ 3.25E+11 ┆ 2     │\n",
       "└──────────┴───────┘"
      ]
     },
     "execution_count": 19,
     "metadata": {},
     "output_type": "execute_result"
    }
   ],
   "source": [
    "duplicates"
   ]
  },
  {
   "cell_type": "code",
   "execution_count": 20,
   "metadata": {},
   "outputs": [
    {
     "data": {
      "text/html": [
       "<div><style>\n",
       ".dataframe > thead > tr,\n",
       ".dataframe > tbody > tr {\n",
       "  text-align: right;\n",
       "  white-space: pre-wrap;\n",
       "}\n",
       "</style>\n",
       "<small>shape: (2, 5)</small><table border=\"1\" class=\"dataframe\"><thead><tr><th>essay_id</th><th>full_text</th><th>score</th><th>paragraph</th><th>suppliment_flg</th></tr><tr><td>str</td><td>str</td><td>i64</td><td>list[str]</td><td>str</td></tr></thead><tbody><tr><td>&quot;3.25E+11&quot;</td><td>&quot;I disagree wit…</td><td>4</td><td>[&quot;I disagree with the principal in saying every student should do a extracurricular activity for three reasons.&quot;, &quot;One reason I disagree is because not everyone has the time to do these activities. Like some students might have younger siblings to take care of or afterschool jobs they have to do, such as walking dogs, babysitting, tutoring, and other things. Also some students have responsibilities to do when they get home, maybe they have an elderly person at home, and its their responsibility to take care of that person as soon as school ends.&quot;, … &quot;This is why i disagree with the principal, next time I hope they keep the students in mind before they make a new school rule or if they had talked to the students before making a decision.&quot;]</td><td>&quot;1&quot;</td></tr><tr><td>&quot;3.25E+11&quot;</td><td>&quot;Ever since the…</td><td>6</td><td>[&quot;Ever since the invention of the telephone, our society has been marked with a series of innovations in the communications field. From texting to social media, technology has made it easier to communicate with each other with little to no latency from anywhere on the planet. One of the most recent applications of communications technology is through the education sector. Some schools offer online video conferences such that students can attend class from home. While many argue that they limit teaching ability and promote longer screen time, online classes provide enough logistical benefits such as cost-effectiveness and safety that they outweigh the criticism.&quot;, &quot;Running a school can be expensive. The school must be able to pay for general utilities, transportation, and safety for each and every student. Taking these factors into account, the school will likely be paying tens of thousands of dollars each day in order to function. This price contrasts heavily with that of online classes as the cost of an online class is typically only dependent on the technology needed to run it. The technology usually needed to run such classes can be broken down to a computer and access to the Internet. Computers have been rapidly becoming cheaper due to innovations in transistor design and other fundamental computational components. Furthermore, they are generally one-time payments as compared to utility costs that must be paid every day. The Internet has experienced vast growth in the last two decades as cell towers and broadband companies have become more abundant. As of right now, we have many developing countries that have gained access to Internet as reductions in costs have made broadband more accessible. If we consider that salaries for teachers remain constant for both in-person and online classes, the price for running online classes seem miniscule when juxtaposed with the logistical costs for running a school.&quot;, … &quot;Criticism against online schools often stem from the belief that communication with a teacher in-person is the best way to learn; however, that statement is becoming more false over time. As schools increasingly gain access to technology, they utilize certain software to increase their learning productivity such as Google Classroom and Microsoft Word. Both of these softwares often require students to have computers. Likewise, online classes share the same demand and produce the same educational result. Hence, the notion that in-person classes has better learning potential than online classes is false. Equipping this information along with the logistical benefits associated with online classes, it is clear to see that online classes provide a benefit for students.&quot;]</td><td>&quot;1&quot;</td></tr></tbody></table></div>"
      ],
      "text/plain": [
       "shape: (2, 5)\n",
       "┌──────────┬───────────────────────────────┬───────┬──────────────────────────────┬────────────────┐\n",
       "│ essay_id ┆ full_text                     ┆ score ┆ paragraph                    ┆ suppliment_flg │\n",
       "│ ---      ┆ ---                           ┆ ---   ┆ ---                          ┆ ---            │\n",
       "│ str      ┆ str                           ┆ i64   ┆ list[str]                    ┆ str            │\n",
       "╞══════════╪═══════════════════════════════╪═══════╪══════════════════════════════╪════════════════╡\n",
       "│ 3.25E+11 ┆ I disagree with the principal ┆ 4     ┆ [\"I disagree with the        ┆ 1              │\n",
       "│          ┆ in…                           ┆       ┆ principal …                  ┆                │\n",
       "│ 3.25E+11 ┆ Ever since the invention of   ┆ 6     ┆ [\"Ever since the invention   ┆ 1              │\n",
       "│          ┆ the …                         ┆       ┆ of th…                       ┆                │\n",
       "└──────────┴───────────────────────────────┴───────┴──────────────────────────────┴────────────────┘"
      ]
     },
     "execution_count": 20,
     "metadata": {},
     "output_type": "execute_result"
    }
   ],
   "source": [
    "df.filter(pl.col(\"essay_id\")==\"3.25E+11\")"
   ]
  },
  {
   "cell_type": "code",
   "execution_count": null,
   "metadata": {},
   "outputs": [],
   "source": []
  }
 ],
 "metadata": {
  "kernelspec": {
   "display_name": "base",
   "language": "python",
   "name": "python3"
  },
  "language_info": {
   "codemirror_mode": {
    "name": "ipython",
    "version": 3
   },
   "file_extension": ".py",
   "mimetype": "text/x-python",
   "name": "python",
   "nbconvert_exporter": "python",
   "pygments_lexer": "ipython3",
   "version": "3.10.13"
  }
 },
 "nbformat": 4,
 "nbformat_minor": 2
}
