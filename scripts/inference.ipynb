{
 "cells": [
  {
   "cell_type": "markdown",
   "metadata": {},
   "source": [
    "## Prepair"
   ]
  },
  {
   "cell_type": "code",
   "execution_count": 1,
   "metadata": {},
   "outputs": [],
   "source": [
    "## config.yamlの読み込み\n",
    "import yaml\n",
    "with open(\"config.yaml\", \"r\", encoding='utf-8') as file:\n",
    "    config = yaml.safe_load(file)"
   ]
  },
  {
   "cell_type": "code",
   "execution_count": 2,
   "metadata": {},
   "outputs": [
    {
     "name": "stderr",
     "output_type": "stream",
     "text": [
      "/opt/conda/lib/python3.10/site-packages/dask/dataframe/_pyarrow_compat.py:23: UserWarning: You are using pyarrow version 11.0.0 which is known to be insecure. See https://www.cve.org/CVERecord?id=CVE-2023-47248 for further details. Please upgrade to pyarrow>=14.0.1 or install pyarrow-hotfix to patch your current version.\n",
      "  warnings.warn(\n"
     ]
    }
   ],
   "source": [
    "# Import\n",
    "import gc\n",
    "import lightgbm as lgb\n",
    "from sklearn.ensemble import VotingRegressor\n",
    "import numpy as np # linear algebra\n",
    "import pandas as pd # data processing, CSV file I/O (e.g. pd.read_csv)\n",
    "import re\n",
    "import random\n",
    "import pickle\n",
    "import matplotlib.pyplot as plt\n",
    "from sklearn.model_selection import train_test_split, StratifiedKFold\n",
    "from sklearn.metrics import confusion_matrix, ConfusionMatrixDisplay, f1_score, cohen_kappa_score\n",
    "from lightgbm import log_evaluation, early_stopping\n",
    "import polars as pl\n",
    "from pathlib import Path\n",
    "import sys"
   ]
  },
  {
   "cell_type": "code",
   "execution_count": 3,
   "metadata": {},
   "outputs": [],
   "source": [
    "# 自作関数の読み込み\n",
    "repo_dir = Path().resolve().parents[0]\n",
    "sys.path.append(str(repo_dir / \"scripts/\"))\n",
    "from utils.path import PathManager\n",
    "from utils.data import *\n",
    "from utils.model import *\n",
    "\n",
    "## パスの設定\n",
    "mode = config[\"model_name\"]\n",
    "path_to = PathManager(repo_dir, mode)"
   ]
  },
  {
   "cell_type": "markdown",
   "metadata": {},
   "source": [
    "# Prepare Test-Dataset"
   ]
  },
  {
   "cell_type": "code",
   "execution_count": 4,
   "metadata": {},
   "outputs": [],
   "source": [
    "## データ読み込み＆特徴量加工\n",
    "create_dataset = CreateDataset(repo_dir, config)\n",
    "test = create_dataset.preprocessing_test()"
   ]
  },
  {
   "cell_type": "code",
   "execution_count": 5,
   "metadata": {},
   "outputs": [],
   "source": [
    "def load_features(input_dir):\n",
    "    with open(input_dir, \"rb\") as f:\n",
    "        feature_select = pickle.load(f)\n",
    "\n",
    "    return feature_select\n",
    "\n",
    "def prepare_test_data(input_data, feature_select):\n",
    "    feature_select = [feature for feature in feature_select if feature in input_data.columns]\n",
    "    X = input_data[feature_select].astype(np.float32).values\n",
    "\n",
    "    return X\n",
    "\n",
    "load_path = path_to.aes2_cache_dir\n",
    "feature_select = load_features(load_path)\n",
    "test_X = prepare_test_data(test, feature_select)"
   ]
  },
  {
   "cell_type": "markdown",
   "metadata": {},
   "source": [
    "# Prediction"
   ]
  },
  {
   "cell_type": "code",
   "execution_count": 6,
   "metadata": {},
   "outputs": [],
   "source": [
    "model_params = {\n",
    "    'lgbm': {\n",
    "        'objective': qwk_obj,  # qwk_objは事前に定義されている関数を指定\n",
    "        'metrics': 'None',\n",
    "        'learning_rate': 0.05,\n",
    "        'max_depth': 5,\n",
    "        'num_leaves': 10,\n",
    "        'colsample_bytree': 0.3,\n",
    "        'reg_alpha': 2.,\n",
    "        'reg_lambda': 0.1,\n",
    "        'n_estimators': 700,\n",
    "        'random_state': 42,\n",
    "        'extra_trees': True,\n",
    "        'class_weight': 'balanced',\n",
    "        'device': 'gpu' if torch.cuda.is_available() else 'cpu',\n",
    "        'verbosity': - 1\n",
    "    },\n",
    "    'xgb': {\n",
    "        'objective': qwk_obj,  # qwk_objは事前に定義されている関数を指定\n",
    "        'metrics': 'None',\n",
    "        'learning_rate': 0.1,\n",
    "        'max_depth': 5,\n",
    "        'num_leaves': 10,\n",
    "        'colsample_bytree': 0.5,\n",
    "        'reg_alpha': 1.0,\n",
    "        'reg_lambda': 0.1,\n",
    "        'n_estimators': 1024,\n",
    "        'random_state': 42,\n",
    "        'extra_trees': True,\n",
    "        'class_weight': 'balanced',\n",
    "        'tree_method': \"hist\",\n",
    "        'device': \"gpu\" if torch.cuda.is_available() else \"cpu\"\n",
    "    }\n",
    "}"
   ]
  },
  {
   "cell_type": "code",
   "execution_count": 7,
   "metadata": {},
   "outputs": [],
   "source": [
    "\n",
    "probabilities = []\n",
    "for i in range(config['n_splits']):\n",
    "    \n",
    "    ## 予測実施実施\n",
    "    trainer = Trainer(config, model_params)\n",
    "    trainer.initialize_models()\n",
    "    model_fold_path = os.path.join(path_to.models_weight, f'fold_{i}')\n",
    "    trainer.load_weight(model_fold_path)\n",
    "\n",
    "    proba = trainer.predict(test_X) + config['a']\n",
    "    probabilities.append(proba)\n",
    "\n",
    "# Compute the average probabilities across all models\n",
    "predictions = np.mean(probabilities, axis=0)\n",
    "predictions = np.round(predictions.clip(1, 6))\n"
   ]
  },
  {
   "cell_type": "markdown",
   "metadata": {},
   "source": [
    "# Create submit-file"
   ]
  },
  {
   "cell_type": "code",
   "execution_count": 9,
   "metadata": {},
   "outputs": [
    {
     "data": {
      "text/html": [
       "<div>\n",
       "<style scoped>\n",
       "    .dataframe tbody tr th:only-of-type {\n",
       "        vertical-align: middle;\n",
       "    }\n",
       "\n",
       "    .dataframe tbody tr th {\n",
       "        vertical-align: top;\n",
       "    }\n",
       "\n",
       "    .dataframe thead th {\n",
       "        text-align: right;\n",
       "    }\n",
       "</style>\n",
       "<table border=\"1\" class=\"dataframe\">\n",
       "  <thead>\n",
       "    <tr style=\"text-align: right;\">\n",
       "      <th></th>\n",
       "      <th>essay_id</th>\n",
       "      <th>score</th>\n",
       "    </tr>\n",
       "  </thead>\n",
       "  <tbody>\n",
       "    <tr>\n",
       "      <th>0</th>\n",
       "      <td>000d118</td>\n",
       "      <td>3</td>\n",
       "    </tr>\n",
       "    <tr>\n",
       "      <th>1</th>\n",
       "      <td>000fe60</td>\n",
       "      <td>3</td>\n",
       "    </tr>\n",
       "    <tr>\n",
       "      <th>2</th>\n",
       "      <td>001ab80</td>\n",
       "      <td>3</td>\n",
       "    </tr>\n",
       "  </tbody>\n",
       "</table>\n",
       "</div>"
      ],
      "text/plain": [
       "  essay_id  score\n",
       "0  000d118      3\n",
       "1  000fe60      3\n",
       "2  001ab80      3"
      ]
     },
     "metadata": {},
     "output_type": "display_data"
    }
   ],
   "source": [
    "# submitファイルの整形\n",
    "file_path = path_to.origin_sample_submit_dir\n",
    "submission = pd.read_csv(file_path)\n",
    "submission['score'] = predictions\n",
    "submission['score'] = submission['score'].astype(int)\n",
    "\n",
    "# 保存\n",
    "if not os.path.exists(path_to.output_dir):\n",
    "    path_to.output_dir.mkdir()\n",
    "\n",
    "save_path = path_to.submit_dir\n",
    "submission.to_csv(save_path, index=None)\n",
    "display(submission.head())"
   ]
  }
 ],
 "metadata": {
  "kernelspec": {
   "display_name": "base",
   "language": "python",
   "name": "python3"
  },
  "language_info": {
   "codemirror_mode": {
    "name": "ipython",
    "version": 3
   },
   "file_extension": ".py",
   "mimetype": "text/x-python",
   "name": "python",
   "nbconvert_exporter": "python",
   "pygments_lexer": "ipython3",
   "version": "3.10.13"
  }
 },
 "nbformat": 4,
 "nbformat_minor": 2
}
